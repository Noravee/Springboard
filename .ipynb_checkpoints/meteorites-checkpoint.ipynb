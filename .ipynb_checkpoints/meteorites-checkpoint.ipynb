{
 "cells": [
  {
   "cell_type": "markdown",
   "metadata": {
    "id": "Dpoc-tVUpZjA"
   },
   "source": [
    "## Pandas Profiling: NASA Meteorites example\n",
    "Source of data: https://data.nasa.gov/Space-Science/Meteorite-Landings/gh4g-9sfh"
   ]
  },
  {
   "cell_type": "markdown",
   "metadata": {
    "id": "yW-2DUSjpZjE"
   },
   "source": [
    "The autoreload instruction reloads modules automatically before code execution, which is helpful for the update below."
   ]
  },
  {
   "cell_type": "code",
   "execution_count": 1,
   "metadata": {
    "id": "vX1OcxClpZjE"
   },
   "outputs": [],
   "source": [
    "%load_ext autoreload\n",
    "%autoreload 2"
   ]
  },
  {
   "cell_type": "markdown",
   "metadata": {
    "id": "xYr3pwtlpZjF"
   },
   "source": [
    "Make sure that we have the latest version of pandas-profiling."
   ]
  },
  {
   "cell_type": "code",
   "execution_count": null,
   "metadata": {
    "id": "y5T7GReWpZjG"
   },
   "outputs": [],
   "source": [
    "import sys\n",
    "\n",
    "!{sys.executable} -m pip install -U pandas-profiling[notebook]\n",
    "!jupyter nbextension enable --py widgetsnbextension"
   ]
  },
  {
   "cell_type": "markdown",
   "metadata": {
    "id": "cDQjoBeQpZjG"
   },
   "source": [
    "You might want to restart the kernel now."
   ]
  },
  {
   "cell_type": "markdown",
   "metadata": {
    "id": "KgAP6OYRpZjG"
   },
   "source": [
    "### Import libraries"
   ]
  },
  {
   "cell_type": "code",
   "execution_count": 2,
   "metadata": {
    "id": "OIEpt9XQpZjH"
   },
   "outputs": [
    {
     "name": "stderr",
     "output_type": "stream",
     "text": [
      "C:\\Users\\mtdra\\anaconda3\\Lib\\site-packages\\numba\\core\\decorators.py:262: NumbaDeprecationWarning: \u001b[1mnumba.generated_jit is deprecated. Please see the documentation at: https://numba.readthedocs.io/en/stable/reference/deprecation.html#deprecation-of-generated-jit for more information and advice on a suitable replacement.\u001b[0m\n",
      "  warnings.warn(msg, NumbaDeprecationWarning)\n",
      "C:\\Users\\mtdra\\anaconda3\\Lib\\site-packages\\visions\\backends\\shared\\nan_handling.py:50: NumbaDeprecationWarning: \u001b[1mThe 'nopython' keyword argument was not supplied to the 'numba.jit' decorator. The implicit default value for this argument is currently False, but it will be changed to True in Numba 0.59.0. See https://numba.readthedocs.io/en/stable/reference/deprecation.html#deprecation-of-object-mode-fall-back-behaviour-when-using-jit for details.\u001b[0m\n",
      "  @nb.jit\n"
     ]
    }
   ],
   "source": [
    "from pathlib import Path\n",
    "\n",
    "import numpy as np\n",
    "import pandas as pd\n",
    "import requests\n",
    "\n",
    "import ydata_profiling\n",
    "from ydata_profiling.utils.cache import cache_file"
   ]
  },
  {
   "cell_type": "markdown",
   "metadata": {
    "id": "DsT86MmkpZjH"
   },
   "source": [
    "### Load and prepare example dataset\n",
    "We add some fake variables for illustrating pandas-profiling capabilities"
   ]
  },
  {
   "cell_type": "code",
   "execution_count": null,
   "metadata": {
    "id": "aUWl0SP-pZjH"
   },
   "outputs": [],
   "source": [
    "file_name = cache_file(\n",
    "    \"meteorites.csv\",\n",
    "    \"https://data.nasa.gov/api/views/gh4g-9sfh/rows.csv?accessType=DOWNLOAD\",\n",
    ")\n",
    "\n",
    "df = pd.read_csv(file_name)\n",
    "\n",
    "# Note: Pandas does not support dates before 1880, so we ignore these for this analysis\n",
    "df[\"year\"] = pd.to_datetime(df[\"year\"], errors=\"coerce\")\n",
    "\n",
    "# Example: Constant variable\n",
    "df[\"source\"] = \"NASA\"\n",
    "\n",
    "# Example: Boolean variable\n",
    "df[\"boolean\"] = np.random.choice([True, False], df.shape[0])\n",
    "\n",
    "# Example: Mixed with base types\n",
    "df[\"mixed\"] = np.random.choice([1, \"A\"], df.shape[0])\n",
    "\n",
    "# Example: Highly correlated variables\n",
    "df[\"reclat_city\"] = df[\"reclat\"] + np.random.normal(scale=5, size=(len(df)))\n",
    "\n",
    "# Example: Duplicate observations\n",
    "duplicates_to_add = pd.DataFrame(df.iloc[0:10])\n",
    "duplicates_to_add[\"name\"] = duplicates_to_add[\"name\"] + \" copy\"\n",
    "\n",
    "df = pd.concat([df, duplicates_to_add], ignore_index=True)"
   ]
  },
  {
   "cell_type": "markdown",
   "metadata": {
    "id": "C37JBHHKpZjI"
   },
   "source": [
    "### Inline report without saving object"
   ]
  },
  {
   "cell_type": "code",
   "execution_count": null,
   "metadata": {
    "id": "WEbk4PF5pZjI"
   },
   "outputs": [],
   "source": [
    "report = df.profile_report(\n",
    "    sort=None, html={\"style\": {\"full_width\": True}}, progress_bar=False\n",
    ")\n",
    "report"
   ]
  },
  {
   "cell_type": "markdown",
   "metadata": {
    "id": "pLgiXsAZpZjI"
   },
   "source": [
    "### Save report to file"
   ]
  },
  {
   "cell_type": "code",
   "execution_count": null,
   "metadata": {
    "id": "6zh57f95pZjI"
   },
   "outputs": [],
   "source": [
    "profile_report = df.profile_report(html={\"style\": {\"full_width\": True}})\n",
    "profile_report.to_file(\"/tmp/example.html\")"
   ]
  },
  {
   "cell_type": "markdown",
   "metadata": {
    "id": "8OBcu8xapZjI"
   },
   "source": [
    "### More analysis (Unicode) and Print existing ProfileReport object inline"
   ]
  },
  {
   "cell_type": "code",
   "execution_count": null,
   "metadata": {
    "id": "6fmWe8BvpZjJ"
   },
   "outputs": [],
   "source": [
    "profile_report = df.profile_report(\n",
    "    explorative=True, html={\"style\": {\"full_width\": True}}\n",
    ")\n",
    "profile_report"
   ]
  },
  {
   "cell_type": "markdown",
   "metadata": {
    "id": "h-_AcbVlpZjJ"
   },
   "source": [
    "### Notebook Widgets"
   ]
  },
  {
   "cell_type": "code",
   "execution_count": null,
   "metadata": {
    "id": "aSgeVg_LpZjJ"
   },
   "outputs": [],
   "source": [
    "profile_report.to_widgets()"
   ]
  }
 ],
 "metadata": {
  "colab": {
   "provenance": []
  },
  "kernelspec": {
   "display_name": "Python 3 (ipykernel)",
   "language": "python",
   "name": "python3"
  },
  "language_info": {
   "codemirror_mode": {
    "name": "ipython",
    "version": 3
   },
   "file_extension": ".py",
   "mimetype": "text/x-python",
   "name": "python",
   "nbconvert_exporter": "python",
   "pygments_lexer": "ipython3",
   "version": "3.11.3"
  }
 },
 "nbformat": 4,
 "nbformat_minor": 1
}
